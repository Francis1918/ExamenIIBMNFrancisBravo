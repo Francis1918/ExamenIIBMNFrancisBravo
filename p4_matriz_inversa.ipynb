{
 "cells": [
  {
   "cell_type": "code",
   "execution_count": 2,
   "metadata": {},
   "outputs": [
    {
     "name": "stdout",
     "output_type": "stream",
     "text": [
      "The autoreload extension is already loaded. To reload it, use:\n",
      "  %reload_ext autoreload\n"
     ]
    }
   ],
   "source": [
    "%load_ext autoreload\n",
    "# %autoreload 2"
   ]
  },
  {
   "cell_type": "code",
   "execution_count": 3,
   "metadata": {},
   "outputs": [
    {
     "name": "stdout",
     "output_type": "stream",
     "text": [
      "[02-08 08:25:10][INFO] Johann| 2025-02-08 08:25:10.927802\n"
     ]
    }
   ],
   "source": [
    "import logging\n",
    "from sys import stdout\n",
    "from datetime import datetime\n",
    "import numpy as np\n",
    "import os\n",
    "\n",
    "logging.basicConfig(\n",
    "    level=logging.INFO,\n",
    "    format=\"[%(asctime)s][%(levelname)s] %(message)s\",\n",
    "    stream=stdout,\n",
    "    datefmt=\"%m-%d %H:%M:%S\",\n",
    ")\n",
    "\n",
    "logging.info(f\"{os.getlogin()}| {datetime.now()}\")"
   ]
  },
  {
   "cell_type": "code",
   "execution_count": 4,
   "metadata": {},
   "outputs": [],
   "source": [
    "# ####################################################################\n",
    "def gauss_jordan(Ab: np.ndarray) -> np.ndarray:\n",
    "    \"\"\"Resuelve un sistema de ecuaciones lineales mediante el método de Gauss-Jordan.\n",
    "\n",
    "    ## Parameters\n",
    "\n",
    "    ``Ab``: matriz aumentada del sistema de ecuaciones lineales. Debe ser de tamaño n-by-(n+1), donde n es el número de incógnitas.\n",
    "\n",
    "    ## Return\n",
    "\n",
    "    ``solucion``: vector con la solución del sistema de ecuaciones lineales.\n",
    "\n",
    "    \"\"\"\n",
    "    if not isinstance(Ab, np.ndarray):\n",
    "        logging.debug(\"Convirtiendo A a numpy array.\")\n",
    "        Ab = np.array(Ab, dtype=float)\n",
    "    assert Ab.shape[0] == Ab.shape[1] - 1, \"La matriz A debe ser de tamaño n-by-(n+1).\"\n",
    "    n = Ab.shape[0]\n",
    "\n",
    "    for i in range(0, n):  # loop por columna\n",
    "\n",
    "        # --- encontrar pivote\n",
    "        p = None  # default, first element\n",
    "        for pi in range(i, n):\n",
    "            if Ab[pi, i] == 0:\n",
    "                # must be nonzero\n",
    "                continue\n",
    "\n",
    "            if p is None:\n",
    "                # first nonzero element\n",
    "                p = pi\n",
    "                continue\n",
    "\n",
    "            if abs(Ab[pi, i]) < abs(Ab[p, i]):\n",
    "                p = pi\n",
    "\n",
    "        if p is None:\n",
    "            # no pivot found.\n",
    "            raise ValueError(\"No existe solución única.\")\n",
    "\n",
    "        if p != i:\n",
    "            # swap rows\n",
    "            logging.debug(f\"Intercambiando filas {i} y {p}\")\n",
    "            _aux = Ab[i, :].copy()\n",
    "            Ab[i, :] = Ab[p, :].copy()\n",
    "            Ab[p, :] = _aux\n",
    "\n",
    "        # --- Eliminación: loop por fila\n",
    "        for j in range(n):\n",
    "            if i == j:\n",
    "                continue\n",
    "            m = Ab[j, i] / Ab[i, i]\n",
    "            Ab[j, i:] = Ab[j, i:] - m * Ab[i, i:]\n",
    "\n",
    "        logging.info(f\"\\n{Ab}\")\n",
    "\n",
    "    if Ab[n - 1, n - 1] == 0:\n",
    "        raise ValueError(\"No existe solución única.\")\n",
    "\n",
    "    # --- Sustitución hacia atrás\n",
    "    solucion = np.zeros(n)\n",
    "\n",
    "    for i in range(n - 1, -1, -1):\n",
    "        solucion[i] = Ab[i, -1] / Ab[i, i]\n",
    "\n",
    "    return solucion"
   ]
  },
  {
   "cell_type": "code",
   "execution_count": 5,
   "metadata": {},
   "outputs": [
    {
     "name": "stdout",
     "output_type": "stream",
     "text": [
      "[02-08 08:25:20][INFO] 2025-02-08 08:25:20.580596\n",
      "[02-08 08:25:20][INFO] Johann| 2025-02-08 08:25:20.582510\n",
      "[02-08 08:25:20][INFO] 2025-02-08 08:25:20.584035\n",
      "[02-08 08:25:20][INFO] Johann| 2025-02-08 08:25:20.585697\n",
      "[02-08 08:25:20][INFO] \n",
      "[[ 1.  2.  3.  4.  1.]\n",
      " [ 0.  1.  0. -1. -4.]\n",
      " [ 0.  0. -1. -3.  0.]\n",
      " [ 0. -1. -3. -6.  0.]]\n",
      "[02-08 08:25:20][INFO] \n",
      "[[ 1.  0.  3.  6.  9.]\n",
      " [ 0.  1.  0. -1. -4.]\n",
      " [ 0.  0. -1. -3.  0.]\n",
      " [ 0.  0. -3. -7. -4.]]\n",
      "[02-08 08:25:20][INFO] \n",
      "[[ 1.  0.  0. -3.  9.]\n",
      " [ 0.  1.  0. -1. -4.]\n",
      " [ 0.  0. -1. -3.  0.]\n",
      " [ 0.  0.  0.  2. -4.]]\n",
      "[02-08 08:25:20][INFO] \n",
      "[[ 1.  0.  0.  0.  3.]\n",
      " [ 0.  1.  0.  0. -6.]\n",
      " [ 0.  0. -1.  0. -6.]\n",
      " [ 0.  0.  0.  2. -4.]]\n"
     ]
    },
    {
     "data": {
      "text/plain": [
       "array([ 3., -6.,  6., -2.])"
      ]
     },
     "execution_count": 5,
     "metadata": {},
     "output_type": "execute_result"
    }
   ],
   "source": [
    "%autoreload 2\n",
    "from src import matriz_aumentada\n",
    "\n",
    "A = [\n",
    "    [1, 2, 3, 4],\n",
    "    [2, 5, 6, 7],\n",
    "    [3, 6, 8, 9],\n",
    "    [4, 7, 9, 10],\n",
    "]\n",
    "b = [1, -2, 3, 4]\n",
    "\n",
    "Ab = matriz_aumentada(A, b)\n",
    "gauss_jordan(Ab)"
   ]
  },
  {
   "cell_type": "markdown",
   "metadata": {},
   "source": [
    "# Resolver"
   ]
  },
  {
   "cell_type": "code",
   "execution_count": 32,
   "metadata": {},
   "outputs": [],
   "source": [
    "def inv_matrix(A: list) -> list:\n",
    "    \"\"\"Inversión de una matriz cuadrada mediante método de Gauss-Jordan con selección de pivote.\n",
    "    \n",
    "    ## Parameters\n",
    "    ``A``: matriz cuadrada de tamaño n x n representada como una lista de listas.\n",
    "\n",
    "    ## Return\n",
    "    ``A_inv``: matriz inversa de A representada como una lista de listas.\n",
    "    \"\"\"\n",
    "    # Verificar si la matriz es invertible calculando su determinante\n",
    "    def determinant(matrix):\n",
    "        \"\"\"Calcula el determinante de una matriz cuadrada usando el método de Laplace.\"\"\"\n",
    "        n = len(matrix)\n",
    "        if n == 1:\n",
    "            return matrix[0][0]\n",
    "        if n == 2:\n",
    "            return matrix[0][0] * matrix[1][1] - matrix[0][1] * matrix[1][0]\n",
    "        det = 0\n",
    "        for col in range(n):\n",
    "            submatrix = [row[:col] + row[col+1:] for row in matrix[1:]]\n",
    "            cofactor = (-1) ** col * matrix[0][col] * determinant(submatrix)\n",
    "            det += cofactor\n",
    "        return det\n",
    "    \n",
    "    if determinant(A) == 0:\n",
    "        raise ValueError(\"La matriz no es invertible (determinante = 0).\")\n",
    "    \n",
    "    n = len(A)\n",
    "    \n",
    "    # Crear la matriz identidad de tamaño n x n\n",
    "    I = [[1 if i == j else 0 for j in range(n)] for i in range(n)]\n",
    "    \n",
    "    # Convertir A en una copia mutable\n",
    "    A = [row[:] for row in A]\n",
    "    \n",
    "    for i in range(n):\n",
    "        # Encontrar el mejor pivote (selección de pivote parcial)\n",
    "        max_row = max(range(i, n), key=lambda r: abs(A[r][i]))\n",
    "        if A[max_row][i] == 0:\n",
    "            raise ValueError(\"La matriz no es invertible.\")\n",
    "        \n",
    "        # Intercambiar filas si es necesario\n",
    "        if max_row != i:\n",
    "            A[i], A[max_row] = A[max_row], A[i]\n",
    "            I[i], I[max_row] = I[max_row], I[i]\n",
    "        \n",
    "        # Normalizar la fila dividiendo por el pivote\n",
    "        pivot = A[i][i]\n",
    "        for j in range(n):\n",
    "            A[i][j] /= pivot\n",
    "            I[i][j] /= pivot\n",
    "        \n",
    "        # Hacer ceros en las otras filas\n",
    "        for k in range(n):\n",
    "            if k == i:\n",
    "                continue\n",
    "            factor = A[k][i]\n",
    "            for j in range(n):\n",
    "                A[k][j] -= factor * A[i][j]\n",
    "                I[k][j] -= factor * I[i][j]\n",
    "    \n",
    "    return I"
   ]
  },
  {
   "cell_type": "code",
   "execution_count": 27,
   "metadata": {},
   "outputs": [],
   "source": [
    "# Función para imprimir la matriz de forma legible\n",
    "def print_matrix(matrix):\n",
    "    for row in matrix:\n",
    "        print(\"  \".join(f\"{val:.4f}\" for val in row))"
   ]
  },
  {
   "cell_type": "markdown",
   "metadata": {},
   "source": [
    "## Ejemplos\n",
    "* Ejemplo 1"
   ]
  },
  {
   "cell_type": "code",
   "execution_count": 28,
   "metadata": {},
   "outputs": [
    {
     "name": "stdout",
     "output_type": "stream",
     "text": [
      "Matriz Inversa A⁻¹:\n",
      "0.5000  -0.5000  -1.5000  1.5000\n",
      "-0.5000  1.5000  -1.5000  0.5000\n",
      "-1.5000  -1.5000  3.5000  -1.5000\n",
      "1.5000  0.5000  -1.5000  0.5000\n"
     ]
    }
   ],
   "source": [
    "# La matriz A =\n",
    "A = [\n",
    "    [1, 2, 3, 4],\n",
    "    [2, 5, 6, 7],\n",
    "    [3, 6, 8, 9],\n",
    "    [4, 7, 9, 10],\n",
    "]\n",
    "# tiene como inversa\n",
    "# A_inv =[[ 0.5, -0.5, -1.5,  1.5],\n",
    "#        [-0.5,  1.5, -1.5,  0.5],\n",
    "#        [-1.5, -1.5,  3.5, -1.5],\n",
    "#        [ 1.5,  0.5, -1.5,  0.5]]\n",
    "# Imprimir la matriz inversa de A\n",
    "A_inv = inv_matrix(A)\n",
    "print(\"Matriz Inversa A⁻¹:\")\n",
    "print_matrix(A_inv)"
   ]
  },
  {
   "cell_type": "markdown",
   "metadata": {},
   "source": [
    "* Ejemplo 2"
   ]
  },
  {
   "cell_type": "code",
   "execution_count": 33,
   "metadata": {},
   "outputs": [
    {
     "name": "stdout",
     "output_type": "stream",
     "text": [
      "Matriz Inversa A⁻¹:\n",
      "-34.0000  31.0000  52.0000  -20.0000\n",
      "19.0000  -17.0000  -29.0000  11.0000\n",
      "12.0000  -11.0000  -18.0000  7.0000\n",
      "1.0000  -1.0000  -2.0000  1.0000\n"
     ]
    }
   ],
   "source": [
    "# La matriz A =\n",
    "A = [\n",
    "    [4, 4, 5, 1],\n",
    "    [3, 4, 2, 2],\n",
    "    [2, 1, 4, 1],\n",
    "    [3, 2, 5, 4],\n",
    "]\n",
    "# tiene como inversa\n",
    "# A_inv =[[-34.,  31.,  52., -20.],\n",
    "#         [ 19., -17., -29.,  11.],\n",
    "#         [ 12., -11., -18.,   7.],\n",
    "#         [  1.,  -1.,  -2.,   1.]]\n",
    "A_inv = inv_matrix(A)\n",
    "print(\"Matriz Inversa A⁻¹:\")\n",
    "print_matrix(A_inv)"
   ]
  },
  {
   "cell_type": "markdown",
   "metadata": {},
   "source": [
    "## Ejercicios"
   ]
  },
  {
   "cell_type": "markdown",
   "metadata": {},
   "source": [
    "* Ejercicio 1"
   ]
  },
  {
   "cell_type": "code",
   "execution_count": 34,
   "metadata": {},
   "outputs": [
    {
     "name": "stdout",
     "output_type": "stream",
     "text": [
      "Matriz Inversa A⁻¹:\n",
      "-1.0000  -3.0000\n",
      "-1.0000  -2.0000\n"
     ]
    }
   ],
   "source": [
    "A = [[2, -3], [-1, 1]]\n",
    "\n",
    "A_inv = inv_matrix(A)\n",
    "print(\"Matriz Inversa A⁻¹:\")\n",
    "print_matrix(A_inv)"
   ]
  },
  {
   "cell_type": "markdown",
   "metadata": {},
   "source": [
    "* Ejercicio 2"
   ]
  },
  {
   "cell_type": "code",
   "execution_count": 35,
   "metadata": {},
   "outputs": [
    {
     "name": "stdout",
     "output_type": "stream",
     "text": [
      "Matriz Inversa A⁻¹:\n",
      "-36.0000  45.0000  60.0000  -80.0000\n",
      "3.0000  -4.0000  -5.0000  7.0000\n",
      "9.0000  -11.0000  -15.0000  20.0000\n",
      "29.0000  -36.0000  -48.0000  64.0000\n"
     ]
    }
   ],
   "source": [
    "A = [\n",
    "    [4, 0, 0, 5],\n",
    "    [1, 0, 4, 0],\n",
    "    [3, 4, 1, 3],\n",
    "    [1, 3, 3, 0],\n",
    "]\n",
    "\n",
    "A_inv = inv_matrix(A)\n",
    "print(\"Matriz Inversa A⁻¹:\")\n",
    "print_matrix(A_inv)"
   ]
  },
  {
   "cell_type": "markdown",
   "metadata": {},
   "source": [
    "* Ejercicio 3"
   ]
  },
  {
   "cell_type": "code",
   "execution_count": 36,
   "metadata": {},
   "outputs": [
    {
     "name": "stdout",
     "output_type": "stream",
     "text": [
      "Matriz Inversa A⁻¹:\n",
      "2.0000  -1.0000  0.0000  -1.0000  0.0000  2.0000  2.0000  -1.0000\n",
      "0.0000  1.0000  1.0000  -1.0000  0.0000  0.0000  0.0000  0.0000\n",
      "6.0000  -1.0000  0.0000  -3.0000  1.0000  1.0000  4.0000  -3.0000\n",
      "6.0000  1.0000  -1.0000  -3.0000  1.0000  -3.0000  3.0000  -3.0000\n",
      "2.0000  -1.0000  1.0000  -1.0000  0.0000  3.0000  2.0000  -1.0000\n",
      "-2.0000  2.0000  -0.0000  0.0000  -0.0000  -4.0000  -2.0000  1.0000\n",
      "-1.0000  -0.0000  -0.0000  1.0000  -0.0000  -0.0000  -1.0000  1.0000\n",
      "-2.0000  -0.0000  -0.0000  1.0000  -0.0000  -0.0000  -1.0000  1.0000\n"
     ]
    }
   ],
   "source": [
    "A = [\n",
    "    [0, 0, 0, 0, 0, 0, 1, -1],\n",
    "    [0, 1, -1, 1, 0, -1, 0, 1],\n",
    "    [-1, -1, 0, 0, 2, 1, 0, 0],\n",
    "    [-1, -1, -1, 1, 2, 0, 0, 1],\n",
    "    [-1, 1, 1, 0, -1, -1, 0, 2],\n",
    "    [0, 1, 0, 0, -1, -1, 0, 0],\n",
    "    [1, -1, -1, 1, 2, 1, 0, 2],\n",
    "    [2, 0, 0, 0, 0, 1, 2, 0],\n",
    "]\n",
    "\n",
    "A_inv = inv_matrix(A)\n",
    "print(\"Matriz Inversa A⁻¹:\")\n",
    "print_matrix(A_inv)"
   ]
  },
  {
   "cell_type": "markdown",
   "metadata": {},
   "source": [
    "* Ejercicio 4"
   ]
  },
  {
   "cell_type": "code",
   "execution_count": 37,
   "metadata": {},
   "outputs": [
    {
     "name": "stdout",
     "output_type": "stream",
     "text": [
      "Matriz Inversa A⁻¹:\n",
      "14.0000  -8.0000  9.0000  -4.0000  0.0000  -4.0000  9.0000  7.0000  -8.0000  3.0000\n",
      "-2.0000  2.0000  -1.0000  2.0000  1.0000  1.0000  -1.0000  -1.0000  1.0000  -2.0000\n",
      "-27.0000  14.0000  -18.0000  5.0000  -2.0000  7.0000  -17.0000  -13.0000  16.0000  -2.0000\n",
      "12.0000  -6.0000  8.0000  -2.0000  1.0000  -3.0000  7.0000  6.0000  -7.0000  0.0000\n",
      "6.0000  -4.0000  4.0000  -2.0000  0.0000  -2.0000  4.0000  3.0000  -3.0000  2.0000\n",
      "18.0000  -9.0000  12.0000  -4.0000  1.0000  -5.0000  11.0000  9.0000  -11.0000  1.0000\n",
      "8.0000  -4.0000  5.0000  -1.0000  1.0000  -2.0000  5.0000  4.0000  -5.0000  0.0000\n",
      "-5.0000  2.0000  -3.0000  0.0000  -1.0000  1.0000  -3.0000  -2.0000  3.0000  1.0000\n",
      "-11.0000  5.0000  -7.0000  1.0000  -2.0000  2.0000  -7.0000  -5.0000  7.0000  1.0000\n",
      "1.0000  -1.0000  1.0000  -1.0000  -1.0000  -1.0000  1.0000  1.0000  -1.0000  1.0000\n"
     ]
    }
   ],
   "source": [
    "A = [\n",
    "    [1, 0, 0, 0, -1, 0, 0, -1, 1, -1],\n",
    "    [1, 1, 0, -1, -1, 1, 0, 0, 1, -1],\n",
    "    [-1, 0, -1, 0, 0, 0, -1, 1, 0, 0],\n",
    "    [0, 0, -1, 0, -1, -1, 1, 0, 1, 0],\n",
    "    [-1, 0, 0, -1, 1, 1, 1, 1, 0, -1],\n",
    "    [1, 0, 0, 1, -1, -1, -1, 1, -1, 0],\n",
    "    [1, 1, 1, 0, 1, 0, -1, -1, -1, 1],\n",
    "    [1, 1, 1, 1, 0, 0, 1, 1, 0, 0],\n",
    "    [1, 1, 1, 1, 1, 0, -1, -1, 0, 0],\n",
    "    [0, 0, -1, -1, -1, 0, 1, 1, 1, -1],\n",
    "]\n",
    "\n",
    "A_inv = inv_matrix(A)\n",
    "print(\"Matriz Inversa A⁻¹:\")\n",
    "print_matrix(A_inv)"
   ]
  }
 ],
 "metadata": {
  "kernelspec": {
   "display_name": "Python 3",
   "language": "python",
   "name": "python3"
  },
  "language_info": {
   "codemirror_mode": {
    "name": "ipython",
    "version": 3
   },
   "file_extension": ".py",
   "mimetype": "text/x-python",
   "name": "python",
   "nbconvert_exporter": "python",
   "pygments_lexer": "ipython3",
   "version": "3.13.0"
  }
 },
 "nbformat": 4,
 "nbformat_minor": 2
}
