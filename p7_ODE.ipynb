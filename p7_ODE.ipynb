{
 "cells": [
  {
   "cell_type": "code",
   "metadata": {
    "ExecuteTime": {
     "end_time": "2025-08-07T18:31:37.174608Z",
     "start_time": "2025-08-07T18:31:37.101438Z"
    }
   },
   "source": [
    "%load_ext autoreload"
   ],
   "outputs": [],
   "execution_count": 1
  },
  {
   "cell_type": "markdown",
   "metadata": {},
   "source": [
    "# ODE"
   ]
  },
  {
   "cell_type": "markdown",
   "metadata": {},
   "source": [
    "## Ejercicio 1\n",
    "$y'= -5y+5t^2+2t$\n",
    "* $0 \\le t \\le 1$\n",
    "* $y(t_0)=1/3$\n",
    "* $N=10$\n",
    "\n"
   ]
  },
  {
   "cell_type": "code",
   "metadata": {
    "ExecuteTime": {
     "end_time": "2025-08-07T18:31:40.510821Z",
     "start_time": "2025-08-07T18:31:40.427958Z"
    }
   },
   "source": [
    "%autoreload 2\n",
    "from src import ODE_euler\n"
   ],
   "outputs": [
    {
     "name": "stdout",
     "output_type": "stream",
     "text": [
      "[08-07 13:31:40][INFO] 2025-08-07 13:31:40.432882\n",
      "[08-07 13:31:40][INFO] bravo| 2025-08-07 13:31:40.503451\n",
      "[08-07 13:31:40][INFO] 2025-08-07 13:31:40.504742\n",
      "[08-07 13:31:40][INFO] bravo| 2025-08-07 13:31:40.505990\n"
     ]
    }
   ],
   "execution_count": 2
  },
  {
   "cell_type": "markdown",
   "metadata": {},
   "source": [
    "## Comparación con la solución real\n",
    "La solución real de la ecuación diferencial es:\n",
    "$y(t)=t^2 +1/3e^{-5t}$\n",
    "\n",
    "* Grafique la solución real y la aproximación obtenida con el método de Euler en una misma gráfica.\n",
    "\n"
   ]
  },
  {
   "cell_type": "code",
   "execution_count": null,
   "metadata": {},
   "outputs": [],
   "source": []
  },
  {
   "cell_type": "markdown",
   "metadata": {},
   "source": [
    "# Errores\n",
    "Calcule el eeror relativo para diferentes valores de N."
   ]
  },
  {
   "cell_type": "code",
   "metadata": {
    "ExecuteTime": {
     "end_time": "2025-08-07T18:31:45.296337Z",
     "start_time": "2025-08-07T18:31:45.025756Z"
    }
   },
   "source": [
    "# Calcular error relativo"
   ],
   "outputs": [],
   "execution_count": 3
  },
  {
   "metadata": {
    "ExecuteTime": {
     "end_time": "2025-08-07T18:35:52.259903Z",
     "start_time": "2025-08-07T18:35:52.220007Z"
    }
   },
   "cell_type": "code",
   "source": [
    "import numpy as np\n",
    "from math import exp\n",
    "\n",
    "# Definición de la f y la solución exacta\n",
    "f = lambda t, y: -5*y + 5*t**2 + 2*t\n",
    "y_exact = lambda t: t**2 + (1/3)*exp(-5*t)\n",
    "\n",
    "def ODE_euler(a, b, f, y_t0, N):\n",
    "    \"\"\"Método de Euler explícito para y' = f(t,y).\"\"\"\n",
    "    h = (b - a) / N\n",
    "    t = a\n",
    "    ts = [t]\n",
    "    ys = [y_t0]\n",
    "    for _ in range(N):\n",
    "        y = ys[-1] + h * f(t, ys[-1])\n",
    "        ys.append(y)\n",
    "        t += h\n",
    "        ts.append(t)\n",
    "    return ys, ts, h\n",
    "\n",
    "# Parámetros del problema\n",
    "a, b, y0 = 0.0, 1.0, 1/3\n",
    "\n",
    "# Cálculo de h para N=10\n",
    "_, _, h10 = ODE_euler(a, b, f, y0, 10)\n",
    "print(f\"Valor de h (N=10): {h10}\")\n",
    "\n",
    "# Cálculo del error relativo promedio para N = 10, 5 y 20\n",
    "for N in [10, 5, 20]:\n",
    "    ys, ts, h = ODE_euler(a, b, f, y0, N)\n",
    "    errors = [abs(y - y_exact(t)) / abs(y_exact(t)) for y, t in zip(ys, ts)]\n",
    "    e_rel = sum(errors)/len(errors)\n",
    "    mant, exp_str = f\"{e_rel:.6e}\".split('e')\n",
    "    print(f\"N={N}: e_rel = {mant}×10^{exp_str}\")\n"
   ],
   "outputs": [
    {
     "name": "stdout",
     "output_type": "stream",
     "text": [
      "Valor de h (N=10): 0.1\n",
      "N=10: e_rel = 1.290954×10^-01\n",
      "N=5: e_rel = 2.797909×10^-01\n",
      "N=20: e_rel = 6.314570×10^-02\n"
     ]
    }
   ],
   "execution_count": 4
  },
  {
   "metadata": {},
   "cell_type": "code",
   "outputs": [],
   "execution_count": null,
   "source": ""
  }
 ],
 "metadata": {
  "kernelspec": {
   "display_name": "Python 3",
   "language": "python",
   "name": "python3"
  },
  "language_info": {
   "codemirror_mode": {
    "name": "ipython",
    "version": 3
   },
   "file_extension": ".py",
   "mimetype": "text/x-python",
   "name": "python",
   "nbconvert_exporter": "python",
   "pygments_lexer": "ipython3",
   "version": "3.10.11"
  }
 },
 "nbformat": 4,
 "nbformat_minor": 2
}
