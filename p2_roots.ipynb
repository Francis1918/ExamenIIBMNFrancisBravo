{
 "cells": [
  {
   "cell_type": "markdown",
   "metadata": {},
   "source": [
    "## Determinar todas las raíces del polinomio"
   ]
  },
  {
   "cell_type": "markdown",
   "metadata": {},
   "source": [
    "$$x^5 -6x^4 +2x^3 +20x^2-27x+10=0$$"
   ]
  },
  {
   "cell_type": "code",
   "execution_count": 3,
   "metadata": {},
   "outputs": [
    {
     "name": "stdout",
     "output_type": "stream",
     "text": [
      "x_1 = -2.0\n",
      "x_2 = 0.999998\n",
      "x_3 = 5.0\n"
     ]
    }
   ],
   "source": [
    "from scipy.optimize import newton \n",
    "import numpy as np\n",
    "\n",
    "# Función y derivada\n",
    "def f(x):\n",
    "    return x**5 - 6*x**4 + 2*x**3 + 20*x**2 - 27*x + 10\n",
    "\n",
    "def f_prime(x):\n",
    "    return 5*x**4 - 24*x**3 + 6*x**2 + 40*x - 27\n",
    "\n",
    "puntos_iniciales = [-10, -5, 0, 5, 10]\n",
    "raices = []\n",
    "\n",
    "for punto in puntos_iniciales:\n",
    "    try:\n",
    "        raiz = newton(f, punto, f_prime)\n",
    "        raiz_redondeada = round(raiz, 6) \n",
    "        raices.append(raiz_redondeada)\n",
    "    except RuntimeError:\n",
    "        raices.append(np.nan)  \n",
    "\n",
    "# Eliminar duplicados y ordenar\n",
    "raices_unicas = np.unique(raices)\n",
    "for i, r in enumerate(raices_unicas, start=1):\n",
    "    print(f\"x_{i} = {r}\")"
   ]
  }
 ],
 "metadata": {
  "kernelspec": {
   "display_name": "Python 3",
   "language": "python",
   "name": "python3"
  },
  "language_info": {
   "codemirror_mode": {
    "name": "ipython",
    "version": 3
   },
   "file_extension": ".py",
   "mimetype": "text/x-python",
   "name": "python",
   "nbconvert_exporter": "python",
   "pygments_lexer": "ipython3",
   "version": "3.13.0"
  }
 },
 "nbformat": 4,
 "nbformat_minor": 2
}
