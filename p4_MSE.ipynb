{
 "cells": [
  {
   "metadata": {
    "ExecuteTime": {
     "end_time": "2025-08-07T18:06:19.910946Z",
     "start_time": "2025-08-07T18:06:19.906632Z"
    }
   },
   "cell_type": "code",
   "outputs": [],
   "execution_count": 6,
   "source": [
    "# Derivadas parciales para regresión lineal\n",
    "# ####################################################################\n",
    "def der_parcial_1(xs: list, ys: list) -> tuple[float, float, float]:\n",
    "    \"\"\"Retorna los coeficientes de la ecuación de la derivada parcial con respecto al parámetro 1 al reemplazar los valores ``xs`` y ``ys``. La ecuación es de la forma:\n",
    "    c_1 * a_1 + c_0 * a_0 = c_ind\n",
    "\n",
    "\n",
    "    ## Parameters\n",
    "\n",
    "    ``xs``: lista de valores de x.\n",
    "\n",
    "    ``ys``: lista de valores de y.\n",
    "\n",
    "    ## Return\n",
    "\n",
    "    ``c_1``: coeficiente del parámetro 1.\n",
    "\n",
    "    ``c_0``: coeficiente del parámetro 0.\n",
    "\n",
    "    ``c_ind``: coeficiente del término independiente.\n",
    "\n",
    "    \"\"\"\n",
    "\n",
    "    # coeficiente del término independiente\n",
    "    c_ind = sum(ys)\n",
    "\n",
    "    # coeficiente del parámetro 1\n",
    "    c_1 = sum(xs)\n",
    "\n",
    "    # coeficiente del parámetro 0\n",
    "    c_0 = len(xs)\n",
    "\n",
    "    return (c_1, c_0, c_ind)\n",
    "\n",
    "\n",
    "def der_parcial_0(xs: list, ys: list) -> tuple[float, float, float]:\n",
    "    \"\"\"Retorna los coeficientes de la ecuación de la derivada parcial con respecto al parámetro 0 al reemplazar los valores ``xs`` y ``ys``. La ecuación es de la forma:\n",
    "    c_1 * a_1 + c_0 * a_0 = c_ind\n",
    "\n",
    "\n",
    "    ## Parameters\n",
    "\n",
    "    ``xs``: lista de valores de x.\n",
    "\n",
    "    ``ys``: lista de valores de y.\n",
    "\n",
    "    ## Return\n",
    "\n",
    "    ``c_1``: coeficiente del parámetro 1.\n",
    "\n",
    "    ``c_0``: coeficiente del parámetro 0.\n",
    "\n",
    "    ``c_ind``: coeficiente del término independiente.\n",
    "\n",
    "    \"\"\"\n",
    "    c_1 = 0\n",
    "    c_0 = 0\n",
    "    c_ind = 0\n",
    "    for xi, yi in zip(xs, ys):\n",
    "        # coeficiente del término independiente\n",
    "        c_ind += xi * yi\n",
    "\n",
    "        # coeficiente del parámetro 1\n",
    "        c_1 += xi * xi\n",
    "\n",
    "        # coeficiente del parámetro 0\n",
    "        c_0 += xi\n",
    "\n",
    "    return (c_1, c_0, c_ind)"
   ]
  },
  {
   "metadata": {
    "ExecuteTime": {
     "end_time": "2025-08-07T18:03:17.890848Z",
     "start_time": "2025-08-07T18:03:17.808788Z"
    }
   },
   "cell_type": "code",
   "outputs": [
    {
     "name": "stdout",
     "output_type": "stream",
     "text": [
      "[08-07 13:03:17][INFO] 2025-08-07 13:03:17.811052\n",
      "[08-07 13:03:17][INFO] bravo| 2025-08-07 13:03:17.887772\n",
      "[08-07 13:03:17][INFO] 2025-08-07 13:03:17.888792\n",
      "[08-07 13:03:17][INFO] bravo| 2025-08-07 13:03:17.889528\n"
     ]
    }
   ],
   "execution_count": 2,
   "source": [
    "from src import ajustar_min_cuadrados\n",
    "\n",
    "# UTILICE:\n",
    "# ajustar_min_cuadrados()"
   ]
  },
  {
   "metadata": {
    "ExecuteTime": {
     "end_time": "2025-08-07T18:11:27.240797Z",
     "start_time": "2025-08-07T18:11:27.161559Z"
    }
   },
   "cell_type": "code",
   "source": [
    "import numpy as np\n",
    "import matplotlib.pyplot as plt\n",
    "\n",
    "# 1. Datos\n",
    "xs = np.array([\n",
    "    -7.0, -6.96, -6.92, -6.879, -6.839, -6.799, -6.759, -6.719, -6.678, -6.638,\n",
    "    -6.598, -6.558, -6.518, -6.477, -6.437, -6.397, -6.357, -6.317, -6.276, -6.236,\n",
    "    -6.196, -6.156, -6.116, -6.075, -6.035, -5.995, -5.955, -5.915, -5.874, -5.834,\n",
    "    -5.794, -5.754, -5.714, -5.673, -5.633, -5.593, -5.553, -5.513, -5.472, -5.432,\n",
    "    -5.392, -5.352, -5.312, -5.271, -5.231, -5.191, -5.151, -5.111, -5.07,  -5.03,\n",
    "    -4.99,  -4.95,  -4.91,  -4.869, -4.829, -4.789, -4.749, -4.709, -4.668, -4.628,\n",
    "    -4.588, -4.548, -4.508, -4.467, -4.427, -4.387, -4.347, -4.307, -4.266, -4.226,\n",
    "    -4.186, -4.146, -4.106, -4.065, -4.025, -3.985, -3.945, -3.905, -3.864, -3.824,\n",
    "    -3.784, -3.744, -3.704, -3.663, -3.623, -3.583, -3.543, -3.503, -3.462, -3.422,\n",
    "    -3.382, -3.342, -3.302, -3.261, -3.221, -3.181, -3.141, -3.101, -3.06,  -3.02,\n",
    "    -2.98,  -2.94,  -2.899, -2.859, -2.819, -2.779, -2.739, -2.698, -2.658, -2.618,\n",
    "    -2.578, -2.538, -2.497, -2.457, -2.417, -2.377, -2.337, -2.296, -2.256, -2.216,\n",
    "    -2.176, -2.136, -2.095, -2.055, -2.015, -1.975, -1.935, -1.894, -1.854, -1.814,\n",
    "    -1.774, -1.734, -1.693, -1.653, -1.613, -1.573, -1.533, -1.492, -1.452, -1.412,\n",
    "    -1.372, -1.332, -1.291, -1.251, -1.211, -1.171, -1.131, -1.09,  -1.05,  -1.01,\n",
    "    -0.97,  -0.93,  -0.889, -0.849, -0.809, -0.769, -0.729, -0.688, -0.648, -0.608,\n",
    "    -0.568, -0.528, -0.487, -0.447, -0.407, -0.367, -0.327, -0.286, -0.246, -0.206,\n",
    "    -0.166, -0.126, -0.085, -0.045, -0.005,  0.035,  0.075,  0.116,  0.156,  0.196,\n",
    "     0.236,  0.276,  0.317,  0.357,  0.397,  0.437,  0.477,  0.518,  0.558,  0.598,\n",
    "     0.638,  0.678,  0.719,  0.759,  0.799,  0.839,  0.879,  0.92,   0.96,   1.0\n",
    "])\n",
    "ys = np.array([\n",
    "    18.295, 18.924, 17.099, 19.592, 18.568, 16.477, 18.783, 18.082, 18.099, 16.696,\n",
    "    16.457, 15.253, 18.337, 17.789, 17.014, 16.393, 16.286, 14.595, 15.176, 14.259,\n",
    "    16.252, 14.637, 15.447, 15.911, 13.627, 14.585, 12.948, 14.402, 14.563, 16.175,\n",
    "    14.377, 14.590, 14.161, 13.703, 13.377, 14.239, 13.006, 12.950, 13.591, 13.893,\n",
    "    11.532, 14.877, 13.337, 13.795, 12.723, 13.756, 11.947, 13.191, 12.461, 13.801,\n",
    "    13.337, 13.225, 13.312, 13.716, 13.061, 12.932, 13.159, 12.647, 12.159, 12.693,\n",
    "    11.234, 13.657, 12.131, 13.116, 11.280, 13.204, 12.681, 12.355, 12.447, 14.183,\n",
    "    14.629, 13.632, 12.527, 12.806, 12.193, 13.291, 13.825, 13.299, 14.618, 14.539,\n",
    "    12.474, 12.456, 14.371, 13.912, 12.522, 14.085, 12.861, 14.924, 14.870, 13.489,\n",
    "    15.417, 15.143, 14.011, 14.199, 14.469, 13.842, 13.583, 14.657, 14.469, 14.213,\n",
    "    16.496, 14.685, 16.626, 13.830, 15.049, 14.276, 16.734, 18.072, 16.275, 16.200,\n",
    "    16.400, 17.622, 17.129, 17.629, 15.697, 16.156, 17.454, 17.942, 15.999, 17.687,\n",
    "    17.084, 18.711, 14.939, 20.116, 18.477, 16.642, 19.969, 19.283, 20.629, 17.274,\n",
    "    18.177, 20.677, 22.297, 24.108, 21.001, 22.261, 19.508, 19.727, 23.987, 22.089,\n",
    "    24.427, 19.869, 24.149, 23.872, 26.017, 21.804, 23.370, 25.047, 23.894, 24.512,\n",
    "    27.049, 27.149, 26.742, 23.910, 24.265, 27.464, 23.775, 27.620, 28.504, 28.295,\n",
    "    28.096, 31.528, 31.188, 29.722, 29.521, 31.992, 28.991, 31.823, 33.040, 31.061,\n",
    "    32.814, 29.264, 33.214, 33.981, 36.273, 33.327, 34.618, 35.065, 31.000, 36.441,\n",
    "    38.878, 36.338, 37.844, 32.963, 35.057, 35.193, 39.027, 35.477, 36.345, 36.056,\n",
    "    39.056, 40.193, 36.724, 39.845, 43.666, 41.484, 39.019, 37.805, 45.267, 47.807\n",
    "])\n",
    "\n",
    "# 2. Ajuste polinomial de grado 4\n",
    "coeffs = np.polyfit(xs, ys, 4)\n",
    "poly = np.poly1d(coeffs)\n",
    "\n",
    "# 3. Cálculo de errores\n",
    "ys_pred = poly(xs)\n",
    "rel_errors = np.abs(ys_pred - ys) / np.abs(ys)\n",
    "mean_rel = rel_errors.mean()\n",
    "max_rel = rel_errors.max()\n",
    "idx_max = rel_errors.argmax()\n",
    "x_max, y_max = xs[idx_max], ys[idx_max]\n",
    "\n",
    "# 4. Resultados\n",
    "print(\"Polinomio aproximante (grado 4):\")\n",
    "print(poly, \"\\n\")\n",
    "print(f\"Error relativo promedio e_rel = {mean_rel:.6f}\")\n",
    "print(f\"Error relativo máximo e_max = {max_rel:.6f} en (x,y)=({x_max},{y_max})\")\n",
    "\n",
    "# 5. Gráfico (opcional)\n",
    "import matplotlib.pyplot as plt\n",
    "plt.scatter(xs, ys, s=10, label=\"Datos\")\n",
    "x_line = np.linspace(xs.min(), xs.max(), 200)\n",
    "plt.plot(x_line, poly(x_line), 'r-', label=\"Polinomio grado 4\")\n",
    "plt.scatter([x_max], [y_max], color='black', zorder=5, label=\"Máximo e_rel\")\n",
    "plt.legend()\n",
    "plt.xlabel(\"x\")\n",
    "plt.ylabel(\"y\")\n",
    "plt.title(\"Ajuste polinomial y punto de máximo error relativo\")\n",
    "plt.show()\n"
   ],
   "outputs": [
    {
     "name": "stdout",
     "output_type": "stream",
     "text": [
      "Polinomio aproximante (grado 4):\n",
      "           4           3          2\n",
      "-0.002791 x - 0.03446 x + 0.8699 x + 8.886 x + 33.1 \n",
      "\n",
      "Error relativo promedio e_rel = 0.053142\n",
      "Error relativo máximo e_max = 0.242939 en (x,y)=(-2.095,14.939)\n"
     ]
    },
    {
     "data": {
      "text/plain": [
       "<Figure size 640x480 with 1 Axes>"
      ],
      "image/png": "[encoded data removed]"
     },
     "metadata": {},
     "output_type": "display_data"
    }
   ],
   "execution_count": 10
  },
  {
   "metadata": {},
   "cell_type": "code",
   "outputs": [],
   "execution_count": null,
   "source": ""
  }
 ],
 "metadata": {
  "kernelspec": {
   "display_name": "Python 3",
   "language": "python",
   "name": "python3"
  },
  "language_info": {
   "codemirror_mode": {
    "name": "ipython",
    "version": 3
   },
   "file_extension": ".py",
   "mimetype": "text/x-python",
   "name": "python",
   "nbconvert_exporter": "python",
   "pygments_lexer": "ipython3",
   "version": "3.10.11"
  }
 },
 "nbformat": 4,
 "nbformat_minor": 2
}
