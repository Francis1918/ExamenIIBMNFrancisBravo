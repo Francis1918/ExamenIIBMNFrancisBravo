{
 "cells": [
  {
   "cell_type": "markdown",
   "metadata": {},
   "source": [
    "## Determinar todas las raíces del polinomio"
   ]
  },
  {
   "cell_type": "markdown",
   "metadata": {},
   "source": "$$x^5 -5.5x^4 +4.5x^3 -9.5x^2-15.5x-6=0$$"
  },
  {
   "cell_type": "code",
   "metadata": {
    "ExecuteTime": {
     "end_time": "2025-08-07T17:56:58.829061Z",
     "start_time": "2025-08-07T17:56:58.318031Z"
    }
   },
   "source": [
    "from scipy.optimize import newton \n",
    "import numpy as np\n",
    "\n",
    "# Función y derivada\n",
    "def f(x):\n",
    "    return x**5 + 5.5*x**4 + 4.5*x**3 - 9.5*x**2 - 15.5*x - 6\n",
    "\n",
    "def f_prime(x):\n",
    "    return 5*x**4 + 22*x**3 + 13.5*x**2 - 19*x - 15.5\n",
    "\n",
    "puntos_iniciales = [-10, -5, 0, 5, 10]\n",
    "raices = []\n",
    "\n",
    "for punto in puntos_iniciales:\n",
    "    try:\n",
    "        raiz = newton(f, punto, f_prime)\n",
    "        raiz_redondeada = round(raiz, 6) \n",
    "        raices.append(raiz_redondeada)\n",
    "    except RuntimeError:\n",
    "        raices.append(np.nan)  \n",
    "\n",
    "# Eliminar duplicados y ordenar\n",
    "raices_unicas = np.unique(raices)\n",
    "for i, r in enumerate(raices_unicas, start=1):\n",
    "    print(f\"x_{i} = {r}\")"
   ],
   "outputs": [
    {
     "name": "stdout",
     "output_type": "stream",
     "text": [
      "x_1 = -4.0\n",
      "x_2 = -0.999995\n",
      "x_3 = 1.5\n"
     ]
    }
   ],
   "execution_count": 2
  },
  {
   "metadata": {},
   "cell_type": "code",
   "outputs": [],
   "execution_count": null,
   "source": ""
  }
 ],
 "metadata": {
  "kernelspec": {
   "display_name": "Python 3",
   "language": "python",
   "name": "python3"
  },
  "language_info": {
   "codemirror_mode": {
    "name": "ipython",
    "version": 3
   },
   "file_extension": ".py",
   "mimetype": "text/x-python",
   "name": "python",
   "nbconvert_exporter": "python",
   "pygments_lexer": "ipython3",
   "version": "3.13.0"
  }
 },
 "nbformat": 4,
 "nbformat_minor": 2
}
