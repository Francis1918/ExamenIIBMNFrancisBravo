{
 "cells": [
  {
   "cell_type": "code",
   "metadata": {
    "ExecuteTime": {
     "end_time": "2025-08-07T18:26:34.063528Z",
     "start_time": "2025-08-07T18:26:33.987505Z"
    }
   },
   "source": [
    "%load_ext autoreload\n",
    "# %autoreload 2"
   ],
   "outputs": [],
   "execution_count": 1
  },
  {
   "cell_type": "code",
   "metadata": {
    "ExecuteTime": {
     "end_time": "2025-08-07T18:26:36.920512Z",
     "start_time": "2025-08-07T18:26:36.833225Z"
    }
   },
   "source": [
    "import logging\n",
    "from sys import stdout\n",
    "from datetime import datetime\n",
    "import numpy as np\n",
    "import os\n",
    "\n",
    "logging.basicConfig(\n",
    "    level=logging.INFO,\n",
    "    format=\"[%(asctime)s][%(levelname)s] %(message)s\",\n",
    "    stream=stdout,\n",
    "    datefmt=\"%m-%d %H:%M:%S\",\n",
    ")\n",
    "\n",
    "logging.info(f\"{os.getlogin()}| {datetime.now()}\")"
   ],
   "outputs": [
    {
     "name": "stdout",
     "output_type": "stream",
     "text": [
      "[08-07 13:26:36][INFO] bravo| 2025-08-07 13:26:36.915996\n"
     ]
    }
   ],
   "execution_count": 2
  },
  {
   "cell_type": "code",
   "metadata": {
    "ExecuteTime": {
     "end_time": "2025-08-07T18:26:40.437293Z",
     "start_time": "2025-08-07T18:26:40.432313Z"
    }
   },
   "source": [
    "# ####################################################################\n",
    "def gauss_jordan(Ab: np.ndarray) -> np.ndarray:\n",
    "    \"\"\"Resuelve un sistema de ecuaciones lineales mediante el método de Gauss-Jordan.\n",
    "\n",
    "    ## Parameters\n",
    "\n",
    "    ``Ab``: matriz aumentada del sistema de ecuaciones lineales. Debe ser de tamaño n-by-(n+1), donde n es el número de incógnitas.\n",
    "\n",
    "    ## Return\n",
    "\n",
    "    ``solucion``: vector con la solución del sistema de ecuaciones lineales.\n",
    "\n",
    "    \"\"\"\n",
    "    if not isinstance(Ab, np.ndarray):\n",
    "        logging.debug(\"Convirtiendo A a numpy array.\")\n",
    "        Ab = np.array(Ab, dtype=float)\n",
    "    assert Ab.shape[0] == Ab.shape[1] - 1, \"La matriz A debe ser de tamaño n-by-(n+1).\"\n",
    "    n = Ab.shape[0]\n",
    "\n",
    "    for i in range(0, n):  # loop por columna\n",
    "\n",
    "        # --- encontrar pivote\n",
    "        p = None  # default, first element\n",
    "        for pi in range(i, n):\n",
    "            if Ab[pi, i] == 0:\n",
    "                # must be nonzero\n",
    "                continue\n",
    "\n",
    "            if p is None:\n",
    "                # first nonzero element\n",
    "                p = pi\n",
    "                continue\n",
    "\n",
    "            if abs(Ab[pi, i]) < abs(Ab[p, i]):\n",
    "                p = pi\n",
    "\n",
    "        if p is None:\n",
    "            # no pivot found.\n",
    "            raise ValueError(\"No existe solución única.\")\n",
    "\n",
    "        if p != i:\n",
    "            # swap rows\n",
    "            logging.debug(f\"Intercambiando filas {i} y {p}\")\n",
    "            _aux = Ab[i, :].copy()\n",
    "            Ab[i, :] = Ab[p, :].copy()\n",
    "            Ab[p, :] = _aux\n",
    "\n",
    "        # --- Eliminación: loop por fila\n",
    "        for j in range(n):\n",
    "            if i == j:\n",
    "                continue\n",
    "            m = Ab[j, i] / Ab[i, i]\n",
    "            Ab[j, i:] = Ab[j, i:] - m * Ab[i, i:]\n",
    "\n",
    "        logging.info(f\"\\n{Ab}\")\n",
    "\n",
    "    if Ab[n - 1, n - 1] == 0:\n",
    "        raise ValueError(\"No existe solución única.\")\n",
    "\n",
    "    # --- Sustitución hacia atrás\n",
    "    solucion = np.zeros(n)\n",
    "\n",
    "    for i in range(n - 1, -1, -1):\n",
    "        solucion[i] = Ab[i, -1] / Ab[i, i]\n",
    "\n",
    "    return solucion"
   ],
   "outputs": [],
   "execution_count": 3
  },
  {
   "cell_type": "code",
   "metadata": {
    "ExecuteTime": {
     "end_time": "2025-08-07T18:26:42.817509Z",
     "start_time": "2025-08-07T18:26:42.801709Z"
    }
   },
   "source": [
    "%autoreload 2\n",
    "from src import matriz_aumentada\n",
    "\n",
    "A = [\n",
    "    [1, 2, 3, 4],\n",
    "    [2, 5, 6, 7],\n",
    "    [3, 6, 8, 9],\n",
    "    [4, 7, 9, 10],\n",
    "]\n",
    "b = [1, -2, 3, 4]\n",
    "\n",
    "Ab = matriz_aumentada(A, b)\n",
    "gauss_jordan(Ab)"
   ],
   "outputs": [
    {
     "name": "stdout",
     "output_type": "stream",
     "text": [
      "[08-07 13:26:42][INFO] 2025-08-07 13:26:42.806700\n",
      "[08-07 13:26:42][INFO] bravo| 2025-08-07 13:26:42.808146\n",
      "[08-07 13:26:42][INFO] 2025-08-07 13:26:42.809270\n",
      "[08-07 13:26:42][INFO] bravo| 2025-08-07 13:26:42.810082\n",
      "[08-07 13:26:42][INFO] \n",
      "[[ 1.  2.  3.  4.  1.]\n",
      " [ 0.  1.  0. -1. -4.]\n",
      " [ 0.  0. -1. -3.  0.]\n",
      " [ 0. -1. -3. -6.  0.]]\n",
      "[08-07 13:26:42][INFO] \n",
      "[[ 1.  0.  3.  6.  9.]\n",
      " [ 0.  1.  0. -1. -4.]\n",
      " [ 0.  0. -1. -3.  0.]\n",
      " [ 0.  0. -3. -7. -4.]]\n",
      "[08-07 13:26:42][INFO] \n",
      "[[ 1.  0.  0. -3.  9.]\n",
      " [ 0.  1.  0. -1. -4.]\n",
      " [ 0.  0. -1. -3.  0.]\n",
      " [ 0.  0.  0.  2. -4.]]\n",
      "[08-07 13:26:42][INFO] \n",
      "[[ 1.  0.  0.  0.  3.]\n",
      " [ 0.  1.  0.  0. -6.]\n",
      " [ 0.  0. -1.  0. -6.]\n",
      " [ 0.  0.  0.  2. -4.]]\n"
     ]
    },
    {
     "data": {
      "text/plain": [
       "array([ 3., -6.,  6., -2.])"
      ]
     },
     "execution_count": 4,
     "metadata": {},
     "output_type": "execute_result"
    }
   ],
   "execution_count": 4
  },
  {
   "cell_type": "markdown",
   "metadata": {},
   "source": [
    "# Resolver"
   ]
  },
  {
   "cell_type": "code",
   "metadata": {
    "ExecuteTime": {
     "end_time": "2025-08-07T18:26:46.283219Z",
     "start_time": "2025-08-07T18:26:46.024473Z"
    }
   },
   "source": [
    "# ####################################################################\n",
    "def inv_matrix(A: np.ndarray) -> np.ndarray:\n",
    "    \"\"\"Inversión de una matriz cuadrada mediante método de Gauss-Jordan.\n",
    "    ## Parameters\n",
    "    ``A``: matriz cuadrada de tamaño n x n.\n",
    "\n",
    "    ## Return\n",
    "    ``A_inv``: matriz inversa de A.\n",
    "    \"\"\"\n",
    "    # COMPLETAR\n",
    "    # Debe basarse en la función gauss_jordan\n",
    "    pass"
   ],
   "outputs": [],
   "execution_count": 5
  },
  {
   "metadata": {
    "ExecuteTime": {
     "end_time": "2025-08-07T18:30:04.385404Z",
     "start_time": "2025-08-07T18:30:04.347686Z"
    }
   },
   "cell_type": "code",
   "source": [
    "def inv_matrix(A: np.ndarray) -> np.ndarray:\n",
    "    \"\"\"Inversión de una matriz cuadrada mediante método de Gauss-Jordan.\n",
    "    ## Parameters\n",
    "    ``A``: matriz cuadrada de tamaño n x n.\n",
    "\n",
    "    ## Return\n",
    "    ``A_inv``: matriz inversa de A.\n",
    "    \"\"\"\n",
    "    A = np.array(A, dtype=float)\n",
    "    n = A.shape[0]\n",
    "\n",
    "    # Crear matriz aumentada [A | I]\n",
    "    I = np.eye(n)\n",
    "    AI = np.hstack([A, I])\n",
    "\n",
    "    # Aplicar Gauss-Jordan para obtener [I | A^(-1)]\n",
    "    for i in range(n):\n",
    "        # Buscar pivote\n",
    "        pivot_row = i\n",
    "        for j in range(i + 1, n):\n",
    "            if abs(AI[j, i]) > abs(AI[pivot_row, i]):\n",
    "                pivot_row = j\n",
    "\n",
    "        # Intercambiar filas si es necesario\n",
    "        if pivot_row != i:\n",
    "            AI[[i, pivot_row]] = AI[[pivot_row, i]]\n",
    "\n",
    "        # Verificar que el pivote no sea cero\n",
    "        if abs(AI[i, i]) < 1e-10:\n",
    "            raise ValueError(\"La matriz no es invertible\")\n",
    "\n",
    "        # Normalizar fila del pivote\n",
    "        AI[i] = AI[i] / AI[i, i]\n",
    "\n",
    "        # Eliminar columna\n",
    "        for j in range(n):\n",
    "            if i != j:\n",
    "                AI[j] = AI[j] - AI[j, i] * AI[i]\n",
    "\n",
    "    # Extraer la matriz inversa\n",
    "    return AI[:, n:]\n"
   ],
   "outputs": [],
   "execution_count": 13
  },
  {
   "metadata": {
    "ExecuteTime": {
     "end_time": "2025-08-07T18:30:21.058284Z",
     "start_time": "2025-08-07T18:30:21.025859Z"
    }
   },
   "cell_type": "code",
   "source": [
    "def verificar_inversa(A, A_inv):\n",
    "    \"\"\"Verifica que A * A_inv = I\"\"\"\n",
    "    A = np.array(A)\n",
    "    producto = np.dot(A, A_inv)\n",
    "    identidad = np.eye(A.shape[0])\n",
    "    return np.allclose(producto, identidad, atol=1e-10)"
   ],
   "outputs": [],
   "execution_count": 14
  },
  {
   "cell_type": "markdown",
   "metadata": {},
   "source": [
    "## Ejemplos\n",
    "* Ejemplo 1"
   ]
  },
  {
   "cell_type": "code",
   "metadata": {
    "ExecuteTime": {
     "end_time": "2025-08-07T18:30:25.038138Z",
     "start_time": "2025-08-07T18:30:25.005546Z"
    }
   },
   "source": [
    "# La matriz A =\n",
    "A = [\n",
    "    [1, 2, 3, 4],\n",
    "    [2, 5, 6, 7],\n",
    "    [3, 6, 8, 9],\n",
    "    [4, 7, 9, 10],\n",
    "]\n",
    "# tiene como inversa\n",
    "# A_inv =[[ 0.5, -0.5, -1.5,  1.5],\n",
    "#        [-0.5,  1.5, -1.5,  0.5],\n",
    "#        [-1.5, -1.5,  3.5, -1.5],\n",
    "#        [ 1.5,  0.5, -1.5,  0.5]]\n",
    "inv_matrix(A)"
   ],
   "outputs": [
    {
     "data": {
      "text/plain": [
       "array([[ 0.5, -0.5, -1.5,  1.5],\n",
       "       [-0.5,  1.5, -1.5,  0.5],\n",
       "       [-1.5, -1.5,  3.5, -1.5],\n",
       "       [ 1.5,  0.5, -1.5,  0.5]])"
      ]
     },
     "execution_count": 15,
     "metadata": {},
     "output_type": "execute_result"
    }
   ],
   "execution_count": 15
  },
  {
   "cell_type": "markdown",
   "metadata": {},
   "source": [
    "* Ejemplo 2"
   ]
  },
  {
   "cell_type": "code",
   "metadata": {
    "ExecuteTime": {
     "end_time": "2025-08-07T18:30:28.122663Z",
     "start_time": "2025-08-07T18:30:28.090470Z"
    }
   },
   "source": [
    "# La matriz A =\n",
    "A = [\n",
    "    [4, 4, 5, 1],\n",
    "    [3, 4, 2, 2],\n",
    "    [2, 1, 4, 1],\n",
    "    [3, 2, 5, 4],\n",
    "]\n",
    "# tiene como inversa\n",
    "# A_inv =[[-34.,  31.,  52., -20.],\n",
    "#         [ 19., -17., -29.,  11.],\n",
    "#         [ 12., -11., -18.,   7.],\n",
    "#         [  1.,  -1.,  -2.,   1.]]\n",
    "inv_matrix(A)"
   ],
   "outputs": [
    {
     "data": {
      "text/plain": [
       "array([[-34.,  31.,  52., -20.],\n",
       "       [ 19., -17., -29.,  11.],\n",
       "       [ 12., -11., -18.,   7.],\n",
       "       [  1.,  -1.,  -2.,   1.]])"
      ]
     },
     "execution_count": 16,
     "metadata": {},
     "output_type": "execute_result"
    }
   ],
   "execution_count": 16
  },
  {
   "cell_type": "markdown",
   "metadata": {},
   "source": [
    "## Ejercicios"
   ]
  },
  {
   "cell_type": "markdown",
   "metadata": {},
   "source": [
    "* Ejercicio 1"
   ]
  },
  {
   "cell_type": "code",
   "metadata": {
    "ExecuteTime": {
     "end_time": "2025-08-07T18:30:30.585431Z",
     "start_time": "2025-08-07T18:30:30.553962Z"
    }
   },
   "source": [
    "A = [[2, -3], [-1, 1]]\n",
    "inv_matrix(A)"
   ],
   "outputs": [
    {
     "data": {
      "text/plain": [
       "array([[-1., -3.],\n",
       "       [-1., -2.]])"
      ]
     },
     "execution_count": 17,
     "metadata": {},
     "output_type": "execute_result"
    }
   ],
   "execution_count": 17
  },
  {
   "cell_type": "markdown",
   "metadata": {},
   "source": [
    "* Ejercicio 2"
   ]
  },
  {
   "cell_type": "code",
   "metadata": {
    "ExecuteTime": {
     "end_time": "2025-08-07T18:30:33.128211Z",
     "start_time": "2025-08-07T18:30:33.096174Z"
    }
   },
   "source": [
    "A = [\n",
    "    [4, 0, 0, 5],\n",
    "    [1, 0, 4, 0],\n",
    "    [3, 4, 1, 3],\n",
    "    [1, 3, 3, 0],\n",
    "]\n",
    "inv_matrix(A)"
   ],
   "outputs": [
    {
     "data": {
      "text/plain": [
       "array([[-36.,  45.,  60., -80.],\n",
       "       [  3.,  -4.,  -5.,   7.],\n",
       "       [  9., -11., -15.,  20.],\n",
       "       [ 29., -36., -48.,  64.]])"
      ]
     },
     "execution_count": 18,
     "metadata": {},
     "output_type": "execute_result"
    }
   ],
   "execution_count": 18
  },
  {
   "cell_type": "markdown",
   "metadata": {},
   "source": [
    "* Ejercicio 3"
   ]
  },
  {
   "cell_type": "code",
   "metadata": {
    "ExecuteTime": {
     "end_time": "2025-08-07T18:30:35.381346Z",
     "start_time": "2025-08-07T18:30:35.348286Z"
    }
   },
   "source": [
    "A = [\n",
    "    [0, 0, 0, 0, 0, 0, 1, -1],\n",
    "    [0, 1, -1, 1, 0, -1, 0, 1],\n",
    "    [-1, -1, 0, 0, 2, 1, 0, 0],\n",
    "    [-1, -1, -1, 1, 2, 0, 0, 1],\n",
    "    [-1, 1, 1, 0, -1, -1, 0, 2],\n",
    "    [0, 1, 0, 0, -1, -1, 0, 0],\n",
    "    [1, -1, -1, 1, 2, 1, 0, 2],\n",
    "    [2, 0, 0, 0, 0, 1, 2, 0],\n",
    "]\n",
    "inv_matrix(A)"
   ],
   "outputs": [
    {
     "data": {
      "text/plain": [
       "array([[ 2., -1.,  0., -1.,  0.,  2.,  2., -1.],\n",
       "       [ 0.,  1.,  1., -1.,  0.,  0.,  0.,  0.],\n",
       "       [ 6., -1.,  0., -3.,  1.,  1.,  4., -3.],\n",
       "       [ 6.,  1., -1., -3.,  1., -3.,  3., -3.],\n",
       "       [ 2., -1.,  1., -1.,  0.,  3.,  2., -1.],\n",
       "       [-2.,  2., -0.,  0., -0., -4., -2.,  1.],\n",
       "       [-1., -0., -0.,  1., -0., -0., -1.,  1.],\n",
       "       [-2., -0., -0.,  1., -0., -0., -1.,  1.]])"
      ]
     },
     "execution_count": 19,
     "metadata": {},
     "output_type": "execute_result"
    }
   ],
   "execution_count": 19
  },
  {
   "cell_type": "markdown",
   "metadata": {},
   "source": [
    "* Ejercicio 4"
   ]
  },
  {
   "cell_type": "code",
   "metadata": {
    "ExecuteTime": {
     "end_time": "2025-08-07T18:30:37.680846Z",
     "start_time": "2025-08-07T18:30:37.648046Z"
    }
   },
   "source": [
    "A = [\n",
    "    [1, 0, 0, 0, -1, 0, 0, -1, 1, -1],\n",
    "    [1, 1, 0, -1, -1, 1, 0, 0, 1, -1],\n",
    "    [-1, 0, -1, 0, 0, 0, -1, 1, 0, 0],\n",
    "    [0, 0, -1, 0, -1, -1, 1, 0, 1, 0],\n",
    "    [-1, 0, 0, -1, 1, 1, 1, 1, 0, -1],\n",
    "    [1, 0, 0, 1, -1, -1, -1, 1, -1, 0],\n",
    "    [1, 1, 1, 0, 1, 0, -1, -1, -1, 1],\n",
    "    [1, 1, 1, 1, 0, 0, 1, 1, 0, 0],\n",
    "    [1, 1, 1, 1, 1, 0, -1, -1, 0, 0],\n",
    "    [0, 0, -1, -1, -1, 0, 1, 1, 1, -1],\n",
    "]\n",
    "inv_matrix(A)"
   ],
   "outputs": [
    {
     "data": {
      "text/plain": [
       "array([[ 14.,  -8.,   9.,  -4.,   0.,  -4.,   9.,   7.,  -8.,   3.],\n",
       "       [ -2.,   2.,  -1.,   2.,   1.,   1.,  -1.,  -1.,   1.,  -2.],\n",
       "       [-27.,  14., -18.,   5.,  -2.,   7., -17., -13.,  16.,  -2.],\n",
       "       [ 12.,  -6.,   8.,  -2.,   1.,  -3.,   7.,   6.,  -7.,   0.],\n",
       "       [  6.,  -4.,   4.,  -2.,   0.,  -2.,   4.,   3.,  -3.,   2.],\n",
       "       [ 18.,  -9.,  12.,  -4.,   1.,  -5.,  11.,   9., -11.,   1.],\n",
       "       [  8.,  -4.,   5.,  -1.,   1.,  -2.,   5.,   4.,  -5.,   0.],\n",
       "       [ -5.,   2.,  -3.,   0.,  -1.,   1.,  -3.,  -2.,   3.,   1.],\n",
       "       [-11.,   5.,  -7.,   1.,  -2.,   2.,  -7.,  -5.,   7.,   1.],\n",
       "       [  1.,  -1.,   1.,  -1.,  -1.,  -1.,   1.,   1.,  -1.,   1.]])"
      ]
     },
     "execution_count": 20,
     "metadata": {},
     "output_type": "execute_result"
    }
   ],
   "execution_count": 20
  },
  {
   "metadata": {
    "ExecuteTime": {
     "end_time": "2025-08-07T18:30:41.171454Z",
     "start_time": "2025-08-07T18:30:41.125612Z"
    }
   },
   "cell_type": "code",
   "source": [
    "import numpy as np\n",
    "from src.linear_sist_methods import gauss_jordan, matriz_aumentada\n",
    "\n",
    "def inv_matrix(A):\n",
    "    \"\"\"\n",
    "    Calcula A^{-1} resolviendo A x = e_i para i=0..n-1\n",
    "    con el método de Gauss–Jordan (función gauss_jordan sobre matriz aumentada).\n",
    "    \"\"\"\n",
    "    A = np.array(A, dtype=float)\n",
    "    n = A.shape[0]\n",
    "    inv = np.zeros((n, n), dtype=float)\n",
    "    for i in range(n):\n",
    "        # vector columna de la identidad\n",
    "        b = np.zeros(n, dtype=float)\n",
    "        b[i] = 1.0\n",
    "        # construir matriz [A | b]\n",
    "        Ab = matriz_aumentada(A, b)\n",
    "        # resolver A x = b\n",
    "        x = gauss_jordan(Ab)\n",
    "        inv[:, i] = x.flatten()\n",
    "    return inv\n",
    "\n",
    "# — Ejercicio 1 —\n",
    "A1 = [[2, -3],\n",
    "      [-1, 1]]\n",
    "A1_inv = inv_matrix(A1)\n",
    "print(\"Ejercicio 1: A^{-1} =\")\n",
    "print(A1_inv)\n",
    "\n",
    "# — Ejercicio 2 —\n",
    "A2 = [\n",
    "    [ 4, 0, 0, 5],\n",
    "    [ 1, 0, 4, 0],\n",
    "    [ 3, 4, 1, 3],\n",
    "    [ 1, 3, 3, 0],\n",
    "]\n",
    "A2_inv = inv_matrix(A2)\n",
    "print(\"\\nEjercicio 2: A^{-1} =\")\n",
    "print(A2_inv)\n"
   ],
   "outputs": [
    {
     "name": "stdout",
     "output_type": "stream",
     "text": [
      "[08-07 13:30:41][INFO] Intercambiando filas 0 y 1.\n",
      "[08-07 13:30:41][INFO] \n",
      "[[-1.  1.  0.]\n",
      " [ 0. -1.  1.]]\n",
      "[08-07 13:30:41][INFO] \n",
      "[[-1.  0.  1.]\n",
      " [ 0. -1.  1.]]\n",
      "[08-07 13:30:41][INFO] Intercambiando filas 0 y 1.\n",
      "[08-07 13:30:41][INFO] \n",
      "[[-1.  1.  1.]\n",
      " [ 0. -1.  2.]]\n",
      "[08-07 13:30:41][INFO] \n",
      "[[-1.  0.  3.]\n",
      " [ 0. -1.  2.]]\n",
      "Ejercicio 1: A^{-1} =\n",
      "[[-1. -3.]\n",
      " [-1. -2.]]\n",
      "[08-07 13:30:41][INFO] Intercambiando filas 0 y 1.\n",
      "[08-07 13:30:41][INFO] \n",
      "[[  1.   0.   4.   0.   0.]\n",
      " [  0.   0. -16.   5.   1.]\n",
      " [  0.   4. -11.   3.   0.]\n",
      " [  0.   3.  -1.   0.   0.]]\n",
      "[08-07 13:30:41][INFO] Intercambiando filas 1 y 3.\n",
      "[08-07 13:30:41][INFO] \n",
      "[[  1.           0.           4.           0.           0.        ]\n",
      " [  0.           3.          -1.           0.           0.        ]\n",
      " [  0.           0.          -9.66666667   3.           0.        ]\n",
      " [  0.           0.         -16.           5.           1.        ]]\n",
      "[08-07 13:30:41][INFO] \n",
      "[[ 1.          0.          0.          1.24137931  0.        ]\n",
      " [ 0.          3.          0.         -0.31034483  0.        ]\n",
      " [ 0.          0.         -9.66666667  3.          0.        ]\n",
      " [ 0.          0.          0.          0.03448276  1.        ]]\n",
      "[08-07 13:30:41][INFO] \n",
      "[[ 1.00000000e+00  0.00000000e+00  0.00000000e+00  0.00000000e+00\n",
      "  -3.60000000e+01]\n",
      " [ 0.00000000e+00  3.00000000e+00  0.00000000e+00  0.00000000e+00\n",
      "   9.00000000e+00]\n",
      " [ 0.00000000e+00  0.00000000e+00 -9.66666667e+00  0.00000000e+00\n",
      "  -8.70000000e+01]\n",
      " [ 0.00000000e+00  0.00000000e+00  0.00000000e+00  3.44827586e-02\n",
      "   1.00000000e+00]]\n",
      "[08-07 13:30:41][INFO] Intercambiando filas 0 y 1.\n",
      "[08-07 13:30:41][INFO] \n",
      "[[  1.   0.   4.   0.   1.]\n",
      " [  0.   0. -16.   5.  -4.]\n",
      " [  0.   4. -11.   3.  -3.]\n",
      " [  0.   3.  -1.   0.  -1.]]\n",
      "[08-07 13:30:41][INFO] Intercambiando filas 1 y 3.\n",
      "[08-07 13:30:41][INFO] \n",
      "[[  1.           0.           4.           0.           1.        ]\n",
      " [  0.           3.          -1.           0.          -1.        ]\n",
      " [  0.           0.          -9.66666667   3.          -1.66666667]\n",
      " [  0.           0.         -16.           5.          -4.        ]]\n",
      "[08-07 13:30:41][INFO] \n",
      "[[ 1.          0.          0.          1.24137931  0.31034483]\n",
      " [ 0.          3.          0.         -0.31034483 -0.82758621]\n",
      " [ 0.          0.         -9.66666667  3.         -1.66666667]\n",
      " [ 0.          0.          0.          0.03448276 -1.24137931]]\n",
      "[08-07 13:30:41][INFO] \n",
      "[[ 1.00000000e+00  0.00000000e+00  0.00000000e+00  0.00000000e+00\n",
      "   4.50000000e+01]\n",
      " [ 0.00000000e+00  3.00000000e+00  0.00000000e+00  0.00000000e+00\n",
      "  -1.20000000e+01]\n",
      " [ 0.00000000e+00  0.00000000e+00 -9.66666667e+00  0.00000000e+00\n",
      "   1.06333333e+02]\n",
      " [ 0.00000000e+00  0.00000000e+00  0.00000000e+00  3.44827586e-02\n",
      "  -1.24137931e+00]]\n",
      "[08-07 13:30:41][INFO] Intercambiando filas 0 y 1.\n",
      "[08-07 13:30:41][INFO] \n",
      "[[  1.   0.   4.   0.   0.]\n",
      " [  0.   0. -16.   5.   0.]\n",
      " [  0.   4. -11.   3.   1.]\n",
      " [  0.   3.  -1.   0.   0.]]\n",
      "[08-07 13:30:41][INFO] Intercambiando filas 1 y 3.\n",
      "[08-07 13:30:41][INFO] \n",
      "[[  1.           0.           4.           0.           0.        ]\n",
      " [  0.           3.          -1.           0.           0.        ]\n",
      " [  0.           0.          -9.66666667   3.           1.        ]\n",
      " [  0.           0.         -16.           5.           0.        ]]\n",
      "[08-07 13:30:41][INFO] \n",
      "[[ 1.          0.          0.          1.24137931  0.4137931 ]\n",
      " [ 0.          3.          0.         -0.31034483 -0.10344828]\n",
      " [ 0.          0.         -9.66666667  3.          1.        ]\n",
      " [ 0.          0.          0.          0.03448276 -1.65517241]]\n",
      "[08-07 13:30:41][INFO] \n",
      "[[ 1.00000000e+00  0.00000000e+00  0.00000000e+00  0.00000000e+00\n",
      "   6.00000000e+01]\n",
      " [ 0.00000000e+00  3.00000000e+00  0.00000000e+00  0.00000000e+00\n",
      "  -1.50000000e+01]\n",
      " [ 0.00000000e+00  0.00000000e+00 -9.66666667e+00  0.00000000e+00\n",
      "   1.45000000e+02]\n",
      " [ 0.00000000e+00  0.00000000e+00  0.00000000e+00  3.44827586e-02\n",
      "  -1.65517241e+00]]\n",
      "[08-07 13:30:41][INFO] Intercambiando filas 0 y 1.\n",
      "[08-07 13:30:41][INFO] \n",
      "[[  1.   0.   4.   0.   0.]\n",
      " [  0.   0. -16.   5.   0.]\n",
      " [  0.   4. -11.   3.   0.]\n",
      " [  0.   3.  -1.   0.   1.]]\n",
      "[08-07 13:30:41][INFO] Intercambiando filas 1 y 3.\n",
      "[08-07 13:30:41][INFO] \n",
      "[[  1.           0.           4.           0.           0.        ]\n",
      " [  0.           3.          -1.           0.           1.        ]\n",
      " [  0.           0.          -9.66666667   3.          -1.33333333]\n",
      " [  0.           0.         -16.           5.           0.        ]]\n",
      "[08-07 13:30:41][INFO] \n",
      "[[ 1.          0.          0.          1.24137931 -0.55172414]\n",
      " [ 0.          3.          0.         -0.31034483  1.13793103]\n",
      " [ 0.          0.         -9.66666667  3.         -1.33333333]\n",
      " [ 0.          0.          0.          0.03448276  2.20689655]]\n",
      "[08-07 13:30:41][INFO] \n",
      "[[ 1.00000000e+00  0.00000000e+00  0.00000000e+00  0.00000000e+00\n",
      "  -8.00000000e+01]\n",
      " [ 0.00000000e+00  3.00000000e+00  0.00000000e+00  0.00000000e+00\n",
      "   2.10000000e+01]\n",
      " [ 0.00000000e+00  0.00000000e+00 -9.66666667e+00  0.00000000e+00\n",
      "  -1.93333333e+02]\n",
      " [ 0.00000000e+00  0.00000000e+00  0.00000000e+00  3.44827586e-02\n",
      "   2.20689655e+00]]\n",
      "\n",
      "Ejercicio 2: A^{-1} =\n",
      "[[-36.  45.  60. -80.]\n",
      " [  3.  -4.  -5.   7.]\n",
      " [  9. -11. -15.  20.]\n",
      " [ 29. -36. -48.  64.]]\n"
     ]
    }
   ],
   "execution_count": 21
  },
  {
   "metadata": {},
   "cell_type": "code",
   "outputs": [],
   "execution_count": null,
   "source": ""
  }
 ],
 "metadata": {
  "kernelspec": {
   "display_name": "Python 3",
   "language": "python",
   "name": "python3"
  },
  "language_info": {
   "codemirror_mode": {
    "name": "ipython",
    "version": 3
   },
   "file_extension": ".py",
   "mimetype": "text/x-python",
   "name": "python",
   "nbconvert_exporter": "python",
   "pygments_lexer": "ipython3",
   "version": "3.10.11"
  }
 },
 "nbformat": 4,
 "nbformat_minor": 2
}
